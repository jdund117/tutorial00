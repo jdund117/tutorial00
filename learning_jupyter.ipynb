{
 "cells": [
  {
   "cell_type": "markdown",
   "metadata": {},
   "source": [
    "# 🔵 Tutorial #0: Testing Jupyter Notebook Functionality 🔵 \n",
    "\n",
    "---\n",
    "\n",
    "Hello and welcome to your first **Jupyter Notebook tutorial**! 👋\n",
    "\n",
    "From this point on, most (if not all) of your direct coding tutorials and challenges will be contained in nicely sized and accessible *Jupyter Notebooks*, like the one you're viewing right at this moment. \n",
    "\n",
    "This is because Jupyter has several advantages for learning and rapid code development over a traditional IDE (like *VS Code*), including but not limited to the following:\n",
    "\n",
    "- Contains Jupyter cells for *rapid code creation* and testing. 💨\n",
    "- Can potentially run *multiple languages* or different language versions/distributions. 💬\n",
    "- Created via a *virtual server*, so can be shut down and restarted easily without closing the window. 💭\n",
    "- Can also support creating *in-line hypertext*, like the text you're reading right now. 📝\n",
    "\n",
    "That might be a lot of techy jargon that may not make a lot of sense, but don't worry! We're about to dive into Jupyter's wonderful setup on iterative code creation and why this is so useful as a learning platform – all while getting some more basic practice with Python! 🐍"
   ]
  },
  {
   "cell_type": "markdown",
   "metadata": {},
   "source": [
    "## 🔹 Creating Code Quickly 🔹 \n",
    "\n",
    "\n",
    "Undoubtedly, one of Jupyter's greatest strengths is being able to **read, write, and test code very, very quickly**. \n",
    "\n",
    "This is done because Jupyter is running off of a virtual instance of Python, which is basically like a type of \"projection\". It's using Python, but with some hacks and tricks in order to accelerate Python's ability to run and construct code under-the-hood. \n",
    "\n",
    "### This is done through the use of *Jupyter Cells*.\n",
    "\n",
    "\n",
    "A **Jupyter cell** is a dynamic cell-like object in a Jupyter Notebook that can accept and run editable text and data and send it back-and-forth between the user and the host server. This contracts starkly from an IDE, which doesn't use a server instance and instead runs entire Python scripts all-at-once by running the instructions directly to your computer.\n",
    "\n",
    "If that's confusing, don't worry – it should be. That's why software developent and coding often necessitates the use of analogies and examples to understand how all this stuff works! \n",
    "\n",
    "A better way to think of it is using the example of a **diner**. In a diner, imagine you have a team of waiters getting food orders from customers and delivering it to the kitchen. Then, after the kitchen has processed the order and created the food that the customer wants, the waiter retrieves the food and delivers it to the appropriate customer. \n",
    "\n",
    "This is similar to how code runs on your computer, you write the *higher-level code* (initial food order), then the code interpreter in your notebook/IDE (waiter) takes the instructions and *converts it into lower-level machine code* to run using the electronic components within your computer (waiter takes the order to the restaurant). After your computer has *processed the instructions* and fulfilled your code's requests (kitchen makes the food), the interpreter (waiter) *retrieves the output of the machine code* and delivers it to you, the user, via the interpreter or another app, like the Command Prompt (waiter delivers your food). \n",
    "\n",
    "What's unique is that while a traditional IDE – like *VS Code* – is like one or two really, really **strong** waiter(s), able to carry an extremely large amount of orders and food but focusing on individual orders/deliveries at one time, Jupyter Notebooks are like teams of dozens of tiny, agile, and weaker waiters, able to carry out multiple orders and deliveries, but each order is relatively small. \n",
    "\n",
    "Like much in the world of software, the truth is undoubtedly more complex and hard-to-understand, but we don't really worry about that. For now, what matters is understanding these cells enough to get them to work! 🔧"
   ]
  },
  {
   "cell_type": "markdown",
   "metadata": {},
   "source": [
    "#### Take the following cell, for instance. "
   ]
  },
  {
   "cell_type": "code",
   "execution_count": 1,
   "metadata": {},
   "outputs": [
    {
     "name": "stdout",
     "output_type": "stream",
     "text": [
      "Hello, World! My name is Notey the Notebook.\n"
     ]
    }
   ],
   "source": [
    "print(\"Hello, World! My name is Notey the Notebook.\")"
   ]
  },
  {
   "cell_type": "markdown",
   "metadata": {},
   "source": [
    "The above cell contains some basic Python scripting in order to return a quick text message to the user. This should look very familiar – it's nearly identical to the script you edited and wrote in your first custom Python file. \n",
    "\n",
    "Let's try **running the cell**! 🏃‍\n",
    "\n",
    "First, click on the cell. You'll know you've selected the cell object if the cell's outline is **BLUE** (that means you've selected the cell itself) or **GREEN** (that means you've selected the cell's content). \n",
    "\n",
    "Here, we want to click on the outside of the cell so that it lights up **BLUE**. 🟦\n",
    "\n",
    "Next, while the cell is selected and highlighted (outline is **BLUE**), bring your cursor up to the header toolbar above the document where you see several buttons and icons. \n",
    "\n",
    "Do you see the icon with a ⏯ button titled **Run**? Go ahead and *click that button*.\n",
    "\n",
    "**NOTE**: For Windows running newer versions of Anaconda and Jupyter, you can also simply click the ⏯ icon located to the left of the cell's content. \n",
    "\n",
    "***\n",
    "\n",
    "If done correctly, the cell should now be updated in two major ways:\n",
    "\n",
    "- First, the cell should have outputed the printing message directly below the highlighted cell.\n",
    "- Second, the cell's `In [ ]:` expression should have updated to now display the expression `In [1]:`. \n",
    "\n",
    "This means that our script worked! \n",
    "\n",
    "We managed to use the virtual server instance to run a short Python script without having to directly tell our computer (using Command Prompt or some other utility) to run the entire file. This can be **very useful** to test small chunks of code, as we'll see moving forward. 🔖\n",
    "\n",
    "You're also probably wondering what's up with that little expression to the left of the cell's content. That expression reflects the \"*running order*\" of the cell. \n",
    "\n",
    "If you notice carefully, while a cell is processing code, the term within the brackets changes to an asterisk (**\\***). But when the cell has finished processing the code, the term within the brackets changes to a number – that number reflects the number of scripts that have been run since the virtual server itself was spun up. Since we just spun up the server via the web page and this was our first cell run, it should simply be a one (1). 🕸\n",
    "\n",
    "***\n",
    "\n",
    "You can also run a cell by using the keyboard shortcut `Shift` **+** `Enter` – a command I'd suggest getting used to memorizing, as it's much, much faster than clicking the button every time. \n",
    "\n",
    "Let's try it with the line below."
   ]
  },
  {
   "cell_type": "code",
   "execution_count": 2,
   "metadata": {},
   "outputs": [
    {
     "name": "stdout",
     "output_type": "stream",
     "text": [
      "I am the user. My name is Shitlord Supreme.\n"
     ]
    }
   ],
   "source": [
    "print(\"I am the user. My name is Shitlord Supreme.\")"
   ]
  },
  {
   "cell_type": "markdown",
   "metadata": {},
   "source": [
    "Now, you can certainly run it, but let's try editing the code and seeing how that affects cells to run. \n",
    "\n",
    "Your name probably isn't Nemo (and if it is, I salute you), so we'll have to change that to reflect your true name. This time, click inside the cell's content area so that you now have a cursor in the text box and the cell is highlighted **GREEN**. 🟩\n",
    "\n",
    "Replace the name `Nemo` with your name, then run the cell. "
   ]
  },
  {
   "cell_type": "markdown",
   "metadata": {},
   "source": [
    "## 🔹 Working with Functions 🔹 \n",
    "\n",
    "***\n",
    "\n",
    "Great! Now that you've written/edited some code and ran it using some cells, let's see why these cells are so darn nice to work with. To do so, I will be teaching one basic coding concept, called **functions**. 📦\n",
    "\n",
    "Don't worry, we'll return to functions multiple times since they can get complicated, but for now, let's look at a basic function.\n",
    "\n",
    "### A function is a kind of \"mini-script\" that contains a piece of code that doesn't run on the spot.\n",
    "\n",
    "Rather, a function needs to be **called** in order to run the logic within it. It can theoretically be called anywhere, so long as the function is defined first. "
   ]
  },
  {
   "cell_type": "markdown",
   "metadata": {},
   "source": [
    "#### Take the following function, for instance."
   ]
  },
  {
   "cell_type": "code",
   "execution_count": 3,
   "metadata": {},
   "outputs": [],
   "source": [
    "def add_two_numbers(first_number, second_number):\n",
    "    summed_number = first_number + second_number\n",
    "    return summed_number"
   ]
  },
  {
   "cell_type": "markdown",
   "metadata": {},
   "source": [
    "Although the syntax and style of the function in code may be odd to understand, upon closer inspection, the function's logic itself shouldn't be too difficult to grasp. \n",
    "\n",
    "Effectively, functions in code as basically the same thing as functions in math: they have an *input*, they do some magic under-the-hood, and they have an *output*. \n",
    "\n",
    "In this case, this function should be able to take two input arguments (`first_number` and `second_number`), add them both together, and return it to the user as a sum. 🎁\n",
    "\n",
    "**Try running the cell above.** What do you expect will output?\n",
    "\n",
    "***\n",
    "\n",
    "If you're surprised that the cell's left-hand bracket expression updated but no output was given, don't worry. That's to be expected. \n",
    "\n",
    "### After all, the function was defined, but never called!\n",
    "\n",
    "Think of it like a function in mathematics, like `f(x) = x + 1`. \n",
    "\n",
    "It's a nice-looking function, but that's all it is... until we **call the function** by sending in some value for `x`! \n",
    "\n",
    "We'd call the mathematical function by sending in an input argument, like so: \n",
    "\n",
    "`f(1) = 2`\n",
    "\n",
    "And we'll do effectively the same thing to call our addition function above. \n",
    "\n",
    "Go ahead and **run the following cell of code**. "
   ]
  },
  {
   "cell_type": "code",
   "execution_count": 4,
   "metadata": {},
   "outputs": [
    {
     "data": {
      "text/plain": [
       "3"
      ]
     },
     "execution_count": 4,
     "metadata": {},
     "output_type": "execute_result"
    }
   ],
   "source": [
    "add_two_numbers(1, 2)"
   ]
  },
  {
   "cell_type": "markdown",
   "metadata": {},
   "source": [
    "If done correctly, you should now see the output to our function printed right below the function call! Now that's writing some good code! 👍\n",
    "\n",
    "**The nice thing about Jupyter is it allows some flexibility in running our code, especially when parts of our code are reliant on each other, but can operate independently.**\n",
    "\n",
    "***\n",
    "\n",
    "For example, *try to run the following cell of code*."
   ]
  },
  {
   "cell_type": "code",
   "execution_count": 5,
   "metadata": {},
   "outputs": [
    {
     "name": "stdout",
     "output_type": "stream",
     "text": [
      "The power of Jupyter compels you!\n",
      "The power of Jupyter compels you!\n",
      "The power of Jupyter compels you!\n"
     ]
    }
   ],
   "source": [
    "def powerful_jupyter(num_cycles):\n",
    "    for cycle in range(num_cycles):\n",
    "        print(\"The power of Jupyter compels you!\")\n",
    "\n",
    "powerful_jupyter(3)\n"
   ]
  },
  {
   "cell_type": "markdown",
   "metadata": {},
   "source": [
    "Don't be alarmed – you've just experienced your first significant error in coding! (At least, hopefully this is your first!) 😬\n",
    "\n",
    "If you take a close look at this error, you'll notice it states that the object named `powerful_jupyter` was not defined. But wait... didn't we define it right above? \n",
    "\n",
    "Well, we did, but we made a critical mistake – in the cell above, we called the function `powerful_jupyter()` **BEFORE** we successfully *defined it* using the `def` keyword. Since the code runs top-to-bottom, it hasn't defined the function yet and doesn't know what we're referring to, so it instead breaks out of the process and alerts us with a nifty little error. ⚠️\n",
    "\n",
    "Luckily, there's a few ways to resolve this. \n",
    "\n",
    "Firstly, **we can reorder the code so that the function is first defined, then called**. Let's try that first.\n",
    "\n",
    "In the cell above, *reorder the code so that the three cascading lines of the cell function are defined ABOVE the function call*. Then run the cell. \n",
    "\n",
    "***\n",
    "\n",
    "If done correctly, the error should have disappeared and now the output is returning our expected result: *the compelling power of Jupyter*! \n",
    "\n",
    "However, this is a technique that we can do in regular IDEs. There happens to be another way to run functions in Jupyter that can also help with ordering issues! \n",
    "\n",
    "*Take a look at the following two cells.* Here, we have a similarly defined function, only this time, the function is defined in one cell and called in another. Also notably, the first cell calls the function but the second cell defines it. \n",
    "\n",
    "As you can probably guess, if you run the first cell first and the second cell next, the first cell will return an error because the function has yet to be defined.\n",
    "\n",
    "So for this exercise, **first, run the second cell. Then, run the first cell.** See what happens?"
   ]
  },
  {
   "cell_type": "code",
   "execution_count": 7,
   "metadata": {},
   "outputs": [],
   "source": [
    "def drink_beer(bottles):\n",
    "    while bottles > 0:\n",
    "        print(\"{} bottles of beer on the wall, {} bottles of beer!\".format(bottles, bottles))\n",
    "        print(\"Take one down, pass it around... {} bottles of beer on the wall!\".format(bottles - 1))\n",
    "        bottles -= 1\n",
    "    print(\"Oh no! There's no more beer! :-(\")"
   ]
  },
  {
   "cell_type": "code",
   "execution_count": 8,
   "metadata": {
    "scrolled": true
   },
   "outputs": [
    {
     "name": "stdout",
     "output_type": "stream",
     "text": [
      "4 bottles of beer on the wall, 4 bottles of beer!\n",
      "Take one down, pass it around... 3 bottles of beer on the wall!\n",
      "3 bottles of beer on the wall, 3 bottles of beer!\n",
      "Take one down, pass it around... 2 bottles of beer on the wall!\n",
      "2 bottles of beer on the wall, 2 bottles of beer!\n",
      "Take one down, pass it around... 1 bottles of beer on the wall!\n",
      "1 bottles of beer on the wall, 1 bottles of beer!\n",
      "Take one down, pass it around... 0 bottles of beer on the wall!\n",
      "Oh no! There's no more beer! :-(\n"
     ]
    }
   ],
   "source": [
    "drink_beer(4)"
   ]
  },
  {
   "cell_type": "markdown",
   "metadata": {},
   "source": [
    "Interesting, huh? While an individual cell adheres to the logical processing of a scripting language, where instructions must be written top-to-bottom, that is *not necessarily* the case for Jupyter. \n",
    "\n",
    "Notably, Jupyter cells are **interdependent scripting agents**, meaning that they have access to data from any other cell in the notebook and can use that data at any time. This means that theoretically, cells can be run out of order so long as the instructions within the cells are run in the right order! 🔀\n",
    "\n",
    "***\n",
    "\n",
    "However, in coding, it is **good practice** to keep your coding and data structures in a neatly accessible and comprehensible way, and one easy way to lose sight of that is intentionally convoluting scripts by placing code blocks out of order. \n",
    "\n",
    "So let's fix that. Thankfully, Jupyter cells are also *shiftable* and can be moved into new order at any time. \n",
    "\n",
    "- First, highlight the second cell containing the function's definition (the block with the `def` keyword).\n",
    "- Next, move your cursor to the header toolbar and locate the arrow (⬆️/⬇️) icons to the left of the ⏯ **Run** icon.\n",
    "- Finally, select the arrow-up (⬆️) icon to shift the currently highlighted cell up one position.\n",
    "\n",
    "Try running the cells again in order and see if everything works out. (Spoiler alert: *it should!*) 🙊"
   ]
  },
  {
   "cell_type": "markdown",
   "metadata": {},
   "source": [
    "## 🔹 Wrapping It Up 🔹 \n",
    "\n",
    "As a quick last tidbit of useful notebook knowledge, sometimes things can just get messy with a notebook and we have need of restarting everything. \n",
    "\n",
    "If that happens, we have control over what's called the **kernel**. The *kernel* is a fancy term for that *virtual server instance* I talked about earlier – the funky thing that's running this optimized and super-tuned Python distribution that we're working with right now. \n",
    "\n",
    "Let's see what happens if we **restart and re-run the kernel**. \n",
    "\n",
    "Move your cursor to the header toolbar and find the icons to the right of the ⏯ **Run** icon.\n",
    "\n",
    "Find the **Restart & Re-Run** ⏩ icon and *click it*. \n",
    "\n",
    "In the new dialogue box, click the red button containing the text `Restart and Run All Cells`.\n",
    "\n",
    "If done correctly, you should see all cells re-run throughout the notebook, from the very first `Hello, World!` cell up top to the final `drink_beer()` cell you just shifted around. \n",
    "\n",
    "If everything was followed correctly, all cells should have run successfully with no further errors. Amazing! 💫\n",
    "\n",
    "---\n",
    "\n",
    "Great work! You've successfully navigated a detailed Jupyter Notebook with basic code and structural control! 🏆\n",
    "\n",
    "Now that your notebook is updated, go ahead and **save the notebook**. In the next activity, we'll upload this notebook as well as your `hello.py` script to your GitHub profile so you can have a saved, accessible copy of your first-ever completed code module for the world to see! 🌎\n",
    "\n",
    "And as a final cool little fact about Jupyter – did you know cells can support multiple languages besides Python and even have hyper-text? \n",
    "\n",
    "Don't believe it? Try **double-clicking** on this text. 👀\n",
    "\n",
    "*Where do you think all this text is living throughout the notebook?*\n",
    "\n",
    "### 🌟 Cells! 🌟"
   ]
  }
 ],
 "metadata": {
  "kernelspec": {
   "display_name": "Python 3",
   "language": "python",
   "name": "python3"
  },
  "language_info": {
   "codemirror_mode": {
    "name": "ipython",
    "version": 3
   },
   "file_extension": ".py",
   "mimetype": "text/x-python",
   "name": "python",
   "nbconvert_exporter": "python",
   "pygments_lexer": "ipython3",
   "version": "3.7.6"
  }
 },
 "nbformat": 4,
 "nbformat_minor": 2
}
